{
 "cells": [
  {
   "cell_type": "code",
   "execution_count": 8,
   "metadata": {},
   "outputs": [],
   "source": [
    "from typing import List, Tuple, Callable\n",
    "import numpy as np"
   ]
  },
  {
   "cell_type": "code",
   "execution_count": 11,
   "metadata": {},
   "outputs": [],
   "source": [
    "# Definición de tipos\n",
    "FuncionActivacion = Tuple[Callable[[np.ndarray], np.ndarray]]\n",
    "CapaNeuronal = Tuple[np.ndarray, np.ndarray, FuncionActivacion]"
   ]
  },
  {
   "cell_type": "code",
   "execution_count": 6,
   "metadata": {},
   "outputs": [],
   "source": [
    "# Funciones de activación y sus derivadas\n",
    "def sigmoide(z: np.ndarray) -> np.ndarray:\n",
    "    return 1 / (1 + np.exp(-z))\n",
    "\n",
    "def derivada_sigmoide(z: np.ndarray) -> np.ndarray:\n",
    "    sig = sigmoide(z)\n",
    "    return sig * (1 - sig)\n",
    "\n",
    "def derivada_tanh(z: np.ndarray) -> np.ndarray:\n",
    "    return 1 - np.tanh(z)**2\n",
    "\n",
    "def derivada_relu(z: np.ndarray) -> np.ndarray:\n",
    "    return (z > 0).astype(float)\n"
   ]
  },
  {
   "cell_type": "code",
   "execution_count": 15,
   "metadata": {},
   "outputs": [],
   "source": [
    "def crear_capas_neuronales(neuronas_por_capa: List[int],\n",
    "        funciones_activacion: List[FuncionActivacion]) -> List[CapaNeuronal]:\n",
    "    \"\"\"\n",
    "    Crear una lista de capas neuronales con pesos, sesgos y funciones de\n",
    "    activación.\n",
    "\n",
    "    :param neuronas_por_capa: Lista con el número de neuronas en cada capa.\n",
    "    :param funciones_activacion: Lista con funciones de activación para cada\n",
    "    capa,\n",
    "    :return: Lista de capas neuronales, cada una de las cuales es una tupla con\n",
    "    pesos, sesgos y función de activación.\n",
    "    \"\"\"\n",
    "    return [(np.random.randn(siguiente_capa, capa_actual), # pesos\n",
    "            np.zeros((siguiente_capa, 1)), # sesgos\n",
    "            funcion_activacion) # función de activación\n",
    "        for capa_actual, siguiente_capa, funcion_activacion in\n",
    "        # desde la primera hasta una antes de la última (-1)\n",
    "        zip(neuronas_por_capa[:-1],\n",
    "            neuronas_por_capa[1:], # desde la segunda hasta la última\n",
    "            funciones_activacion)]\n",
    "\n",
    "def propagacion_hacia_adelante(entradas: np.ndarray,\n",
    "        lista_capas_neuronales: List[CapaNeuronal]) -> List[np.ndarray]:\n",
    "    \"\"\"\n",
    "    Realizar la propagación hacia adelante a través de la red neuronal.\n",
    "\n",
    "    :param entradas: Matriz de entradas donde cada columna es un caso y cada\n",
    "    fila un nodo de la capa actual.\n",
    "    :param lista_capas_neuronales: Lista de capas neuronales.\n",
    "    :return: Lista de valores de activación para cada capa\n",
    "    \"\"\"\n",
    "    valor_activacion = entradas\n",
    "    valores_activacion_capa = []\n",
    "    # iteración secuencial\n",
    "    for pesos, sesgos, funcion_activacion in lista_capas_neuronales:\n",
    "        z: np.ndarray = np.dot(pesos, valor_activacion) + sesgos\n",
    "        valor_activacion = funcion_activacion(z)\n",
    "        valores_activacion_capa.append(valor_activacion)\n",
    "    return valores_activacion_capa\n",
    "\n",
    "def error_cuadratico(predicho: np.ndarray, deseado: np.ndarray) -> np.ndarray:\n",
    "    \"\"\"\n",
    "    Calcula el error cuadrático entre los valores predichos y los valores\n",
    "    deseados.\n",
    "\n",
    "    :param predicho: Valores predichos por el modelo.\n",
    "    :param deseado: Valores deseados.\n",
    "    :return: Error cuadrático.\n",
    "    \"\"\"\n",
    "    return np.mean((deseado - predicho)**2)\n"
   ]
  }
 ],
 "metadata": {
  "kernelspec": {
   "display_name": "Python 3",
   "language": "python",
   "name": "python3"
  },
  "language_info": {
   "codemirror_mode": {
    "name": "ipython",
    "version": 3
   },
   "file_extension": ".py",
   "mimetype": "text/x-python",
   "name": "python",
   "nbconvert_exporter": "python",
   "pygments_lexer": "ipython3",
   "version": "3.12.4"
  }
 },
 "nbformat": 4,
 "nbformat_minor": 2
}
